{
 "cells": [
  {
   "cell_type": "markdown",
   "metadata": {},
   "source": [
    "Build a regression model."
   ]
  },
  {
   "cell_type": "code",
   "execution_count": null,
   "metadata": {},
   "outputs": [],
   "source": [
    "# Import required Libraries\n",
    "import sqlite3\n",
    "import pandas as pd\n",
    "import statsmodels.api as sm"
   ]
  },
  {
   "cell_type": "code",
   "execution_count": 5,
   "metadata": {},
   "outputs": [],
   "source": [
    "# Connect to the SQLite database\n",
    "connection = sqlite3.connect('../data/bikestation.sqlite')\n",
    "\n",
    "# Load tables into DataFrames\n",
    "stations_df = pd.read_sql('SELECT * FROM stations', connection)\n",
    "pois_df = pd.read_sql('SELECT * FROM pois', connection)\n",
    "station_pois_df = pd.read_sql('SELECT * FROM station_pois', connection)"
   ]
  },
  {
   "cell_type": "code",
   "execution_count": null,
   "metadata": {},
   "outputs": [
    {
     "name": "stdout",
     "output_type": "stream",
     "text": [
      "    bikes_available  num_pois  avg_poi_rating\n",
      "0                 9     500.0          4.3084\n",
      "1                 5     500.0          4.3084\n",
      "2                 6     500.0          4.3084\n",
      "3                 4     500.0          4.3084\n",
      "4                 0     500.0          4.3084\n",
      "5                17     500.0          4.3084\n",
      "6                 9     500.0          4.3084\n",
      "7                 0     500.0          4.3084\n",
      "8                 0     500.0          4.3084\n",
      "9                 4     500.0          4.3084\n",
      "10                3     500.0          4.3084\n",
      "11                4     500.0          4.3084\n",
      "12                2     500.0          4.3084\n",
      "13                5     500.0          4.3084\n",
      "14                1     500.0          4.3084\n",
      "15                2     500.0          4.3084\n",
      "16               19     500.0          4.3084\n",
      "17                1     500.0          4.3084\n",
      "18                3     500.0          4.3084\n",
      "19                1     500.0          4.3084\n",
      "20                5     500.0          4.3084\n",
      "21                6     500.0          4.3084\n",
      "22                0     500.0          4.3084\n",
      "23                4     500.0          4.3084\n",
      "24               11     500.0          4.3084\n",
      "25                1     500.0          4.3084\n",
      "26               11     500.0          4.3084\n",
      "27                3     500.0          4.3084\n",
      "28                1     500.0          4.3084\n",
      "29                1     500.0          4.3084\n",
      "30                2     500.0          4.3084\n",
      "31                5     500.0          4.3084\n",
      "32                7     500.0          4.3084\n",
      "33                1     500.0          4.3084\n",
      "34                6     500.0          4.3084\n",
      "35                1     500.0          4.3084\n",
      "36                8     500.0          4.3084\n",
      "37                7     500.0          4.3084\n",
      "38                9     500.0          4.3084\n",
      "39                1     500.0          4.3084\n",
      "40                1     500.0          4.3084\n",
      "41                0     500.0          4.3084\n",
      "42                1     500.0          4.3084\n",
      "43                1     500.0          4.3084\n",
      "44                1     500.0          4.3084\n",
      "45                4     500.0          4.3084\n",
      "46                9     500.0          4.3084\n",
      "47                9     500.0          4.3084\n",
      "48                3     500.0          4.3084\n",
      "49                0     500.0          4.3084\n"
     ]
    }
   ],
   "source": [
    "# Merge POIs with station_pois to get station-poi relationship with POI details\n",
    "merged_df = station_pois_df.merge(pois_df, on='poi_id')\n",
    "\n",
    "# Aggregate POI features per station\n",
    "poi_features = merged_df.groupby('station_id').agg({\n",
    "    'poi_id': 'count',                # number of POIs near the station\n",
    "    'rating': 'mean'                  # average POI rating\n",
    "}).rename(columns={\n",
    "    'poi_id': 'num_pois',\n",
    "    'rating': 'avg_poi_rating'\n",
    "}).reset_index()\n",
    "\n",
    "# Merge POI features with station info\n",
    "model_df = stations_df.merge(poi_features, on='station_id', how='left')\n",
    "\n",
    "# Replace NaN (stations with no nearby POIs) with 0\n",
    "model_df['num_pois'] = model_df['num_pois'].fillna(0)\n",
    "model_df['avg_poi_rating'] = model_df['avg_poi_rating'].fillna(0)\n",
    "\n",
    "# Preview\n",
    "print(model_df[['bikes_available', 'num_pois', 'avg_poi_rating']].head())"
   ]
  },
  {
   "cell_type": "markdown",
   "metadata": {},
   "source": [
    "Provide model output and an interpretation of the results. "
   ]
  },
  {
   "cell_type": "code",
   "execution_count": 9,
   "metadata": {},
   "outputs": [
    {
     "name": "stdout",
     "output_type": "stream",
     "text": [
      "                            OLS Regression Results                            \n",
      "==============================================================================\n",
      "Dep. Variable:        bikes_available   R-squared:                       0.000\n",
      "Model:                            OLS   Adj. R-squared:                  0.000\n",
      "Method:                 Least Squares   F-statistic:                     1.767\n",
      "Date:                Tue, 29 Jul 2025   Prob (F-statistic):              0.171\n",
      "Time:                        18:54:07   Log-Likelihood:            -1.4772e+06\n",
      "No. Observations:              444649   AIC:                         2.954e+06\n",
      "Df Residuals:                  444646   BIC:                         2.954e+06\n",
      "Df Model:                           2                                         \n",
      "Covariance Type:            nonrobust                                         \n",
      "==================================================================================\n",
      "                     coef    std err          t      P>|t|      [0.025      0.975]\n",
      "----------------------------------------------------------------------------------\n",
      "const              6.4167      0.011    568.819      0.000       6.395       6.439\n",
      "num_pois        9.911e-05      0.001      0.182      0.856      -0.001       0.001\n",
      "avg_poi_rating    -0.0114      0.006     -1.880      0.060      -0.023       0.000\n",
      "==============================================================================\n",
      "Omnibus:                   110636.027   Durbin-Watson:                   1.679\n",
      "Prob(Omnibus):                  0.000   Jarque-Bera (JB):           246060.310\n",
      "Skew:                           1.434   Prob(JB):                         0.00\n",
      "Kurtosis:                       5.248   Cond. No.                         21.6\n",
      "==============================================================================\n",
      "\n",
      "Notes:\n",
      "[1] Standard Errors assume that the covariance matrix of the errors is correctly specified.\n"
     ]
    }
   ],
   "source": [
    "# Define independent variables (with constant)\n",
    "X = model_df[['num_pois', 'avg_poi_rating']]\n",
    "X = sm.add_constant(X)\n",
    "\n",
    "# Define dependent variable\n",
    "y = model_df['bikes_available']\n",
    "\n",
    "# Build OLS regression model\n",
    "model = sm.OLS(y, X).fit()\n",
    "\n",
    "# Print model summary\n",
    "print(model.summary())"
   ]
  },
  {
   "cell_type": "markdown",
   "metadata": {},
   "source": [
    "**Interpretation:**\n",
    "There’s no evidence from the data that bike availability is related to the number or rating of nearby POIs.\n",
    "The model performs poorly in predicting bikes available.\n",
    "\n",
    "**Possible reasons:**\n",
    "Poorly chosen features.\n",
    "Not enough variance in num_pois or avg_poi_rating.\n",
    "Bikes may depend on other variables like time of day, weather, or user demand, not POIs.\n",
    "\n"
   ]
  },
  {
   "cell_type": "markdown",
   "metadata": {},
   "source": [
    "# Stretch"
   ]
  },
  {
   "cell_type": "markdown",
   "metadata": {},
   "source": [
    "How can you turn the regression model into a classification model?"
   ]
  },
  {
   "cell_type": "markdown",
   "metadata": {},
   "source": [
    "Instead of predicting how many bikes are available (regression), we can classify bike stations into categories"
   ]
  },
  {
   "cell_type": "markdown",
   "metadata": {},
   "source": [
    "### Classification Problem Setup\n",
    "**Goal: Predict whether a station is:**\n",
    "\n",
    "Low availability (e.g., < 3 bikes)\n",
    "\n",
    "Medium availability (e.g., 3–6 bikes)\n",
    "\n",
    "High availability (e.g., > 6 bikes)"
   ]
  }
 ],
 "metadata": {
  "kernelspec": {
   "display_name": "base",
   "language": "python",
   "name": "python3"
  },
  "language_info": {
   "codemirror_mode": {
    "name": "ipython",
    "version": 3
   },
   "file_extension": ".py",
   "mimetype": "text/x-python",
   "name": "python",
   "nbconvert_exporter": "python",
   "pygments_lexer": "ipython3",
   "version": "3.13.5"
  }
 },
 "nbformat": 4,
 "nbformat_minor": 4
}
