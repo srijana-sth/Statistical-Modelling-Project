{
 "cells": [
  {
   "cell_type": "markdown",
   "metadata": {},
   "source": [
    "# CityBikes"
   ]
  },
  {
   "cell_type": "markdown",
   "metadata": {},
   "source": [
    "Send a request to CityBikes for the city of your choice. "
   ]
  },
  {
   "cell_type": "code",
   "execution_count": 2,
   "metadata": {},
   "outputs": [],
   "source": [
    "import requests\n",
    "import pandas as pd\n",
    "\n",
    "# trying to get data for the city Toronto. \n",
    "# Get the list of networks to confirm Toronto exists\n",
    "networks_url = \"https://api.citybik.es/v2/networks\"\n",
    "response = requests.get(networks_url)\n",
    "networks_data = response.json()\n",
    "\n",
    "\n",
    "for net in networks_data['networks']:\n",
    "    if 'Toronto' in net['location']['city']:\n",
    "        # get the url for the city\n",
    "        api_url = net['href']\n",
    "    \n"
   ]
  },
  {
   "cell_type": "markdown",
   "metadata": {},
   "source": [
    "Parse through the response to get the details you want for the bike stations in that city (latitude, longitude, number of bikes). "
   ]
  },
  {
   "cell_type": "code",
   "execution_count": 3,
   "metadata": {},
   "outputs": [],
   "source": [
    "if api_url!='':\n",
    "    toronto_url = \"https://api.citybik.es\"+api_url\n",
    "    toronto_response = requests.get(toronto_url)\n",
    "    toronto_data = toronto_response.json()\n",
    "\n",
    "# Extract stations data\n",
    "stations = toronto_data['network']['stations']"
   ]
  },
  {
   "cell_type": "markdown",
   "metadata": {},
   "source": [
    "Put your parsed results into a DataFrame."
   ]
  },
  {
   "cell_type": "code",
   "execution_count": 6,
   "metadata": {},
   "outputs": [
    {
     "name": "stdout",
     "output_type": "stream",
     "text": [
      "                               name   latitude  longitude  free_bikes  \\\n",
      "0    Summerhill Ave / Maclennan Ave  43.685924 -79.376304           3   \n",
      "1     Queen St E / Joseph Duggan Rd  43.667763 -79.308117           9   \n",
      "2  Victoria Park Ave / Danforth Ave  43.691468 -79.288619           1   \n",
      "3     Navy Wharf Crt / Bremner Blvd  43.640722 -79.391051           4   \n",
      "4               420 Wellington St W  43.643834 -79.396649           7   \n",
      "\n",
      "   empty_slots  \n",
      "0            5  \n",
      "1            7  \n",
      "2           17  \n",
      "3            2  \n",
      "4            4  \n"
     ]
    }
   ],
   "source": [
    "stations = toronto_data['network']['stations']\n",
    "\n",
    "#  Parse data into a DataFrame\n",
    "df = pd.DataFrame([{\n",
    "    \"name\": station[\"name\"],\n",
    "    \"latitude\": station[\"latitude\"],\n",
    "    \"longitude\": station[\"longitude\"],\n",
    "    \"free_bikes\": station[\"free_bikes\"],\n",
    "    \"empty_slots\": station[\"empty_slots\"]\n",
    "} for station in stations])\n",
    "\n",
    "# Display the first few rows\n",
    "df.to_csv(\"../data/bike_stations.csv\", index=False)\n",
    "print(df.head())"
   ]
  }
 ],
 "metadata": {
  "kernelspec": {
   "display_name": "base",
   "language": "python",
   "name": "python3"
  },
  "language_info": {
   "codemirror_mode": {
    "name": "ipython",
    "version": 3
   },
   "file_extension": ".py",
   "mimetype": "text/x-python",
   "name": "python",
   "nbconvert_exporter": "python",
   "pygments_lexer": "ipython3",
   "version": "3.13.5"
  }
 },
 "nbformat": 4,
 "nbformat_minor": 4
}
