{
 "cells": [
  {
   "cell_type": "markdown",
   "metadata": {},
   "source": [
    "# CityBikes"
   ]
  },
  {
   "cell_type": "markdown",
   "metadata": {},
   "source": [
    "Send a request to CityBikes for the city of your choice. "
   ]
  },
  {
   "cell_type": "code",
   "execution_count": null,
   "metadata": {},
   "outputs": [
    {
     "name": "stdout",
     "output_type": "stream",
     "text": [
      "/v2/networks/bixi-toronto\n"
     ]
    }
   ],
   "source": [
    "import requests\n",
    "import pandas as pd\n",
    "\n",
    "# trying to get data for the city Toronto. \n",
    "# Get the list of networks to confirm Toronto exists\n",
    "networks_url = \"https://api.citybik.es/v2/networks\"\n",
    "response = requests.get(networks_url)\n",
    "networks_data = response.json()\n",
    "\n",
    "\n",
    "for net in networks_data['networks']:\n",
    "    if 'Toronto' in net['location']['city']:\n",
    "        # get the url for the city\n",
    "        api_url = net['href']\n",
    "    \n"
   ]
  },
  {
   "cell_type": "markdown",
   "metadata": {},
   "source": [
    "Parse through the response to get the details you want for the bike stations in that city (latitude, longitude, number of bikes). "
   ]
  },
  {
   "cell_type": "code",
   "execution_count": null,
   "metadata": {},
   "outputs": [],
   "source": [
    "if api_url!='':\n",
    "    toronto_url = \"https://api.citybik.es\"+api_url\n",
    "    toronto_response = requests.get(toronto_url)\n",
    "    toronto_data = toronto_response.json()\n",
    "\n",
    "# Extract stations data\n",
    "stations = toronto_data['network']['stations']"
   ]
  },
  {
   "cell_type": "markdown",
   "metadata": {},
   "source": [
    "Put your parsed results into a DataFrame."
   ]
  },
  {
   "cell_type": "code",
   "execution_count": 19,
   "metadata": {},
   "outputs": [
    {
     "name": "stdout",
     "output_type": "stream",
     "text": [
      "    latitude  longitude  free_bikes  empty_slots\n",
      "0  43.685924 -79.376304           5            5\n",
      "1  43.667763 -79.308117          13            4\n",
      "2  43.691468 -79.288619           3           15\n",
      "3  43.640722 -79.391051           4            2\n",
      "4  43.643834 -79.396649           2           10\n"
     ]
    }
   ],
   "source": [
    "stations = toronto_data['network']['stations']\n",
    "\n",
    "#  Parse data into a DataFrame\n",
    "df = pd.DataFrame([{\n",
    "    # \"name\": station[\"name\"],\n",
    "    \"latitude\": station[\"latitude\"],\n",
    "    \"longitude\": station[\"longitude\"],\n",
    "    \"free_bikes\": station[\"free_bikes\"],\n",
    "    \"empty_slots\": station[\"empty_slots\"]\n",
    "} for station in stations])\n",
    "\n",
    "# Display the first few rows\n",
    "print(df.head())"
   ]
  }
 ],
 "metadata": {
  "kernelspec": {
   "display_name": "base",
   "language": "python",
   "name": "python3"
  },
  "language_info": {
   "codemirror_mode": {
    "name": "ipython",
    "version": 3
   },
   "file_extension": ".py",
   "mimetype": "text/x-python",
   "name": "python",
   "nbconvert_exporter": "python",
   "pygments_lexer": "ipython3",
   "version": "3.13.5"
  }
 },
 "nbformat": 4,
 "nbformat_minor": 4
}
